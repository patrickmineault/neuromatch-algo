{
 "cells": [
  {
   "cell_type": "code",
   "execution_count": 1,
   "id": "410e85f7-7227-44b8-9217-508893aabdcb",
   "metadata": {},
   "outputs": [],
   "source": [
    "# Load up data\n",
    "import json\n",
    "import pandas as pd\n",
    "\n",
    "with open('data/input/users_2020_2.json', 'r') as f:\n",
    "    user_data = json.load(f)\n",
    "    \n",
    "with open('data/input/matches_2020_2.json', 'r') as f:\n",
    "    match_data = json.load(f)"
   ]
  },
  {
   "cell_type": "code",
   "execution_count": 2,
   "id": "b36d1642-15d1-47c1-96fd-e3397d63246b",
   "metadata": {},
   "outputs": [],
   "source": [
    "def rename_rows(rows):\n",
    "    for row in rows:\n",
    "        row['full_name'] = row['fullname']\n",
    "        row['registrant_id'] = row['id']\n",
    "    return rows\n",
    "\n",
    "for k, user in user_data.items():\n",
    "    user['registrant_id'] = k\n",
    "    \n",
    "df_users = pd.DataFrame(user_data.values())\n",
    "df_users = df_users.rename(columns={'fullname': 'full_name'})\n",
    "df_users.abstracts = df_users.abstracts.map(lambda x: '\\n\\n'.join(x))\n",
    "\n",
    "matches = []\n",
    "for k, match in match_data.items():\n",
    "    matches.append(\n",
    "        {'registrant_id': k,\n",
    "         'matches_info': rename_rows(match['group_match'] + match['mind_match'])})\n",
    "\n",
    "df_users = df_users.merge(pd.DataFrame(matches), left_on='registrant_id', right_on='registrant_id')\n",
    "df_users.sort_values('registrant_id').reset_index(drop=True).to_json('data/transformed/nmc2.json', orient='table')"
   ]
  }
 ],
 "metadata": {
  "kernelspec": {
   "display_name": "ccn",
   "language": "python",
   "name": "ccn"
  },
  "language_info": {
   "codemirror_mode": {
    "name": "ipython",
    "version": 3
   },
   "file_extension": ".py",
   "mimetype": "text/x-python",
   "name": "python",
   "nbconvert_exporter": "python",
   "pygments_lexer": "ipython3",
   "version": "3.9.12"
  }
 },
 "nbformat": 4,
 "nbformat_minor": 5
}
